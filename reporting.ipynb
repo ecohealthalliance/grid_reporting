{
 "metadata": {
  "name": "",
  "signature": "sha256:7e986ffe3bf7ace312e4c5f407a9ea3975114d2dbb639b0374f53527e7bc9b89"
 },
 "nbformat": 3,
 "nbformat_minor": 0,
 "worksheets": [
  {
   "cells": [
    {
     "cell_type": "code",
     "collapsed": false,
     "input": [
      "import pandas as pd\n",
      "from pandas import DataFrame, Series\n",
      "import numpy as np\n",
      "import glob\n",
      "import os\n",
      "from __future__ import division\n",
      "import matplotlib.pyplot as plt\n",
      "import re\n",
      "#TRY IMPORTING GGPLOT IN NORMAL TERMINAL? pip install ggplot"
     ],
     "language": "python",
     "metadata": {},
     "outputs": [
      {
       "output_type": "stream",
       "stream": "stderr",
       "text": [
        "/Users/ctilchin/.virtualenvs/lab/lib/python2.7/site-packages/pandas/io/excel.py:626: UserWarning: Installed openpyxl is not supported at this time. Use >=1.6.1 and <2.0.0.\n",
        "  .format(openpyxl_compat.start_ver, openpyxl_compat.stop_ver))\n"
       ]
      }
     ],
     "prompt_number": 1
    },
    {
     "cell_type": "code",
     "collapsed": false,
     "input": [
      "%run grab_gdrive.py 'sickistats2'\n",
      "for files in glob.glob(\"./data/*.csv\"):\n",
      "    print files"
     ],
     "language": "python",
     "metadata": {},
     "outputs": [
      {
       "output_type": "stream",
       "stream": "stdout",
       "text": [
        "Your browser has been opened to visit:\n",
        "\n",
        "    https://accounts.google.com/o/oauth2/auth?scope=https%3A%2F%2Fwww.googleapis.com%2Fauth%2Fdrive&redirect_uri=http%3A%2F%2Flocalhost%3A8080%2F&response_type=code&client_id=327388502369-ik96uf3bp43uemut3fv360jn3dvf4hb1.apps.googleusercontent.com&access_type=offline\n",
        "\n",
        "Authentication successful."
       ]
      },
      {
       "output_type": "stream",
       "stream": "stdout",
       "text": [
        "\n",
        "Created Google Drive Service"
       ]
      },
      {
       "output_type": "stream",
       "stream": "stdout",
       "text": [
        "\n",
        "Downloaded Excel File"
       ]
      },
      {
       "output_type": "stream",
       "stream": "stdout",
       "text": [
        "\n",
        "Begin Converting Excel File to CSV\n",
        "Completed pushing data to CSV"
       ]
      },
      {
       "output_type": "stream",
       "stream": "stdout",
       "text": [
        "\n",
        "./data/col_names.csv\n",
        "./data/economics.csv\n",
        "./data/event.csv\n",
        "./data/host.csv\n",
        "./data/location.csv\n",
        "./data/match_key_ccm.csv\n",
        "./data/match_key_si.csv\n",
        "./data/meta.csv\n",
        "./data/metrics.csv\n",
        "./data/pathogen.csv\n",
        "./data/qaqc.csv\n"
       ]
      }
     ],
     "prompt_number": 2
    },
    {
     "cell_type": "code",
     "collapsed": false,
     "input": [
      "# load events\n",
      "df_events = pd.read_csv('./data/event.csv', quoting=2)\n",
      "#Remove parentheses, asterisks, and spaces from column names:\n",
      "df_events.columns = [re.sub(r'[^\\w]', '', x) for x in df_events.columns]\n",
      "# Create dataframe with core columns\n",
      "core_event_fields = ['eventName', 'nameICD10Val', 'eidID', 'diseaseValPrecis', 'startDateISO', 'endDateISO', 'hostAgeVal', 'hostUseVal',  'transmissionModelVal', 'zoonoticTypeVal', 'numberInfectedVal', 'prevalenceVal', 'symptomsReportedVal', 'hostSex', 'sampleTypeVal', 'driverVal', 'eidVal', 'eidCategoryVal', 'domesticationStatusVal', 'numberDeathsVal']\n",
      "core_events = df_events.reindex(columns=core_event_fields)\n",
      "\n",
      "# load pathogens\n",
      "df_pathogens = pd.read_csv('./data/pathogen.csv', quoting=2)\n",
      "#Remove parentheses, asterisks, and spaces from column names:\n",
      "df_pathogens.columns = [re.sub(r'[^\\w]', '', x) for x in df_pathogens.columns]\n",
      "# Create dataframe with core columns\n",
      "core_pathogen_fields = ['eventName','pathogenOrder', 'pathogenFamily', 'pathogenClass', 'pathogenType', 'pathogenDrugResistanceVal']\n",
      "core_pathogens = df_pathogens.reindex(columns=core_pathogen_fields)\n",
      "\n",
      "# load hosts\n",
      "df_hosts = pd.read_csv('./data/host.csv', quoting=2)\n",
      "#Remove parentheses, asterisks, and spaces from column names:\n",
      "df_hosts.columns = [re.sub(r'[^\\w]', '', x) for x in df_hosts.columns]\n",
      "# Create dataframe with core columns\n",
      "core_host_fields = ['eventName', 'hostReportedNameVal']\n",
      "core_hosts = df_hosts.reindex(columns=core_host_fields)\n",
      "\n",
      "# load locations\n",
      "df_locations = pd.read_csv('./data/location.csv', quoting=2)\n",
      "#Remove parentheses, asterisks, and spaces from column names:\n",
      "df_locations.columns = [re.sub(r'[^\\w]', '', x) for x in df_locations.columns]\n",
      "# Create dataframe with core columns\n",
      "core_location_fields = ['eventName', 'locationNation', 'locationContinent']\n",
      "core_locations = df_locations.reindex(columns=core_location_fields)\n",
      "\n",
      "# load economics\n",
      "df_economics = pd.read_csv('./data/economics.csv', quoting=2)\n",
      "#Remove parentheses, asterisks, and spaces from column names:\n",
      "df_economics.columns = [re.sub(r'[^\\w]', '', x) for x in df_economics.columns]\n",
      "# Create dataframe with core columns\n",
      "core_economics_fields = ['eventName', 'avgLifeExpectancyInCountryAndYearOfEventVal', 'perCapitaNationalGDPInYearOfEventVal']\n",
      "core_economics = df_economics.reindex(columns=core_economics_fields)\n",
      "\n",
      "\n",
      "# merge on EventName\n",
      "core = pd.merge(core_events, core_pathogens, how='left', on='eventName')\n",
      "core = pd.merge(core, core_hosts, how='left', on='eventName')\n",
      "core = pd.merge(core, core_locations, how='left', on='eventName')\n",
      "core = pd.merge(core, core_economics, how='left', on='eventName')\n",
      "df = core\n",
      "core.columns"
     ],
     "language": "python",
     "metadata": {},
     "outputs": [
      {
       "metadata": {},
       "output_type": "pyout",
       "prompt_number": 3,
       "text": [
        "Index([u'eventName', u'nameICD10Val', u'eidID', u'diseaseValPrecis', u'startDateISO', u'endDateISO', u'hostAgeVal', u'hostUseVal', u'transmissionModelVal', u'zoonoticTypeVal', u'numberInfectedVal', u'prevalenceVal', u'symptomsReportedVal', u'hostSex', u'sampleTypeVal', u'driverVal', u'eidVal', u'eidCategoryVal', u'domesticationStatusVal', u'numberDeathsVal', u'pathogenOrder', u'pathogenFamily', u'pathogenClass', u'pathogenType', u'pathogenDrugResistanceVal', u'hostReportedNameVal', u'locationNation', u'locationContinent', u'avgLifeExpectancyInCountryAndYearOfEventVal', u'perCapitaNationalGDPInYearOfEventVal'], dtype='object')"
       ]
      }
     ],
     "prompt_number": 3
    },
    {
     "cell_type": "code",
     "collapsed": false,
     "input": [
      "purg = core[(core['eidVal']=='0')]\n",
      "len(purg)"
     ],
     "language": "python",
     "metadata": {},
     "outputs": [
      {
       "metadata": {},
       "output_type": "pyout",
       "prompt_number": 5,
       "text": [
        "36"
       ]
      }
     ],
     "prompt_number": 5
    },
    {
     "cell_type": "code",
     "collapsed": false,
     "input": [
      "purg_count = len(purg)\n",
      "core_count = len(core)\n",
      "purg_ratio = purg_count/core_count\n",
      "print purg_ratio * 100, \"%\""
     ],
     "language": "python",
     "metadata": {},
     "outputs": [
      {
       "output_type": "stream",
       "stream": "stdout",
       "text": [
        "7.67590618337 %\n"
       ]
      }
     ],
     "prompt_number": 6
    },
    {
     "cell_type": "code",
     "collapsed": false,
     "input": [
      "core.to_csv(\"./coreEIDs.csv\")"
     ],
     "language": "python",
     "metadata": {},
     "outputs": [],
     "prompt_number": 7
    },
    {
     "cell_type": "code",
     "collapsed": false,
     "input": [
      "core.columns"
     ],
     "language": "python",
     "metadata": {},
     "outputs": [
      {
       "metadata": {},
       "output_type": "pyout",
       "prompt_number": 8,
       "text": [
        "Index([u'eventName', u'nameICD10Val', u'eidID', u'diseaseValPrecis', u'startDateISO', u'endDateISO', u'hostAgeVal', u'hostUseVal', u'transmissionModelVal', u'zoonoticTypeVal', u'numberInfectedVal', u'prevalenceVal', u'symptomsReportedVal', u'hostSex', u'sampleTypeVal', u'driverVal', u'eidVal', u'eidCategoryVal', u'domesticationStatusVal', u'numberDeathsVal', u'pathogenOrder', u'pathogenFamily', u'pathogenClass', u'pathogenType', u'pathogenDrugResistanceVal', u'hostReportedNameVal', u'locationNation', u'locationContinent', u'avgLifeExpectancyInCountryAndYearOfEventVal', u'perCapitaNationalGDPInYearOfEventVal'], dtype='object')"
       ]
      }
     ],
     "prompt_number": 8
    },
    {
     "cell_type": "code",
     "collapsed": false,
     "input": [
      "core ['startDateISO']"
     ],
     "language": "python",
     "metadata": {},
     "outputs": [
      {
       "metadata": {},
       "output_type": "pyout",
       "prompt_number": 9,
       "text": [
        "0     1993-01-01\n",
        "1           1985\n",
        "2             NF\n",
        "3        1998-05\n",
        "4     1979-04-04\n",
        "5     2001-09-24\n",
        "6           1987\n",
        "7        1987-02\n",
        "8           1986\n",
        "9        1986-11\n",
        "10            NF\n",
        "11            NF\n",
        "12          1977\n",
        "13          1962\n",
        "14            NF\n",
        "...\n",
        "454       2012-01\n",
        "455       2012-01\n",
        "456    2012-12-08\n",
        "457    2013-02-18\n",
        "458    2013-03-13\n",
        "459            NF\n",
        "460    2013-05-05\n",
        "461            NF\n",
        "462       2004-03\n",
        "463            NF\n",
        "464    2008-07-01\n",
        "465          2012\n",
        "466       2004-01\n",
        "467          2004\n",
        "468    2002-12-31\n",
        "Name: startDateISO, Length: 469, dtype: object"
       ]
      }
     ],
     "prompt_number": 9
    },
    {
     "cell_type": "code",
     "collapsed": false,
     "input": [
      " # Choose plotting style\n",
      "from ggplot import *\n",
      "#pd.options.display.mpl_style ='default'\n",
      "import seaborn as sns\n",
      "#import prettyplotlib as ppl\n",
      "import vincent"
     ],
     "language": "python",
     "metadata": {},
     "outputs": [
      {
       "ename": "ImportError",
       "evalue": "No module named ggplot",
       "output_type": "pyerr",
       "traceback": [
        "\u001b[0;31m---------------------------------------------------------------------------\u001b[0m\n\u001b[0;31mImportError\u001b[0m                               Traceback (most recent call last)",
        "\u001b[0;32m<ipython-input-10-325a84bcaf9f>\u001b[0m in \u001b[0;36m<module>\u001b[0;34m()\u001b[0m\n\u001b[1;32m      1\u001b[0m \u001b[0;31m# Choose plotting style\u001b[0m\u001b[0;34m\u001b[0m\u001b[0;34m\u001b[0m\u001b[0m\n\u001b[0;32m----> 2\u001b[0;31m \u001b[0;32mfrom\u001b[0m \u001b[0mggplot\u001b[0m \u001b[0;32mimport\u001b[0m \u001b[0;34m*\u001b[0m\u001b[0;34m\u001b[0m\u001b[0m\n\u001b[0m\u001b[1;32m      3\u001b[0m \u001b[0;31m#pd.options.display.mpl_style ='default'\u001b[0m\u001b[0;34m\u001b[0m\u001b[0;34m\u001b[0m\u001b[0m\n\u001b[1;32m      4\u001b[0m \u001b[0;32mimport\u001b[0m \u001b[0mseaborn\u001b[0m \u001b[0;32mas\u001b[0m \u001b[0msns\u001b[0m\u001b[0;34m\u001b[0m\u001b[0m\n\u001b[1;32m      5\u001b[0m \u001b[0;31m#import prettyplotlib as ppl\u001b[0m\u001b[0;34m\u001b[0m\u001b[0;34m\u001b[0m\u001b[0m\n",
        "\u001b[0;31mImportError\u001b[0m: No module named ggplot"
       ]
      }
     ],
     "prompt_number": 10
    },
    {
     "cell_type": "code",
     "collapsed": false,
     "input": [
      "pip install ggplot"
     ],
     "language": "python",
     "metadata": {},
     "outputs": [
      {
       "ename": "SyntaxError",
       "evalue": "invalid syntax (<ipython-input-11-737ca71c97b1>, line 1)",
       "output_type": "pyerr",
       "traceback": [
        "\u001b[0;36m  File \u001b[0;32m\"<ipython-input-11-737ca71c97b1>\"\u001b[0;36m, line \u001b[0;32m1\u001b[0m\n\u001b[0;31m    pip install ggplot\u001b[0m\n\u001b[0m              ^\u001b[0m\n\u001b[0;31mSyntaxError\u001b[0m\u001b[0;31m:\u001b[0m invalid syntax\n"
       ]
      }
     ],
     "prompt_number": 11
    },
    {
     "cell_type": "code",
     "collapsed": false,
     "input": [
      "def floor_decade(date_value):\n",
      "    \"Takes a date. Returns the decade.\"\n",
      "    return (date_value.year // 10) * 10"
     ],
     "language": "python",
     "metadata": {},
     "outputs": [],
     "prompt_number": 15
    },
    {
     "cell_type": "code",
     "collapsed": false,
     "input": [
      "df[df['startDateISO'] == 'NF'].count()"
     ],
     "language": "python",
     "metadata": {},
     "outputs": [
      {
       "metadata": {},
       "output_type": "pyout",
       "prompt_number": 16,
       "text": [
        "eventName                                      120\n",
        "nameICD10Val                                    38\n",
        "eidID                                          120\n",
        "diseaseValPrecis                               120\n",
        "startDateISO                                   120\n",
        "endDateISO                                     120\n",
        "hostAgeVal                                      85\n",
        "hostUseVal                                      90\n",
        "transmissionModelVal                           120\n",
        "zoonoticTypeVal                                120\n",
        "numberInfectedVal                              120\n",
        "prevalenceVal                                  120\n",
        "symptomsReportedVal                            120\n",
        "hostSex                                         18\n",
        "sampleTypeVal                                  116\n",
        "driverVal                                      120\n",
        "eidVal                                         120\n",
        "eidCategoryVal                                 120\n",
        "domesticationStatusVal                         120\n",
        "numberDeathsVal                                120\n",
        "pathogenOrder                                   53\n",
        "pathogenFamily                                  68\n",
        "pathogenClass                                   45\n",
        "pathogenType                                   110\n",
        "pathogenDrugResistanceVal                      104\n",
        "hostReportedNameVal                            108\n",
        "locationNation                                 110\n",
        "locationContinent                              110\n",
        "avgLifeExpectancyInCountryAndYearOfEventVal    107\n",
        "perCapitaNationalGDPInYearOfEventVal           109\n",
        "dtype: int64"
       ]
      }
     ],
     "prompt_number": 16
    },
    {
     "cell_type": "code",
     "collapsed": false,
     "input": [
      "list.count(NF)"
     ],
     "language": "python",
     "metadata": {},
     "outputs": [
      {
       "ename": "NameError",
       "evalue": "name 'NF' is not defined",
       "output_type": "pyerr",
       "traceback": [
        "\u001b[0;31m---------------------------------------------------------------------------\u001b[0m\n\u001b[0;31mNameError\u001b[0m                                 Traceback (most recent call last)",
        "\u001b[0;32m<ipython-input-17-d633dd720136>\u001b[0m in \u001b[0;36m<module>\u001b[0;34m()\u001b[0m\n\u001b[0;32m----> 1\u001b[0;31m \u001b[0mlist\u001b[0m\u001b[0;34m.\u001b[0m\u001b[0mcount\u001b[0m\u001b[0;34m(\u001b[0m\u001b[0mNF\u001b[0m\u001b[0;34m)\u001b[0m\u001b[0;34m\u001b[0m\u001b[0m\n\u001b[0m",
        "\u001b[0;31mNameError\u001b[0m: name 'NF' is not defined"
       ]
      }
     ],
     "prompt_number": 17
    },
    {
     "cell_type": "code",
     "collapsed": false,
     "input": [
      "core ['startDateISO']"
     ],
     "language": "python",
     "metadata": {},
     "outputs": [
      {
       "metadata": {},
       "output_type": "pyout",
       "prompt_number": 18,
       "text": [
        "0     1993-01-01\n",
        "1           1985\n",
        "2             NF\n",
        "3        1998-05\n",
        "4     1979-04-04\n",
        "5     2001-09-24\n",
        "6           1987\n",
        "7        1987-02\n",
        "8           1986\n",
        "9        1986-11\n",
        "10            NF\n",
        "11            NF\n",
        "12          1977\n",
        "13          1962\n",
        "14            NF\n",
        "...\n",
        "454       2012-01\n",
        "455       2012-01\n",
        "456    2012-12-08\n",
        "457    2013-02-18\n",
        "458    2013-03-13\n",
        "459            NF\n",
        "460    2013-05-05\n",
        "461            NF\n",
        "462       2004-03\n",
        "463            NF\n",
        "464    2008-07-01\n",
        "465          2012\n",
        "466       2004-01\n",
        "467          2004\n",
        "468    2002-12-31\n",
        "Name: startDateISO, Length: 469, dtype: object"
       ]
      }
     ],
     "prompt_number": 18
    },
    {
     "cell_type": "code",
     "collapsed": false,
     "input": [
      "core ['startDateISO'].describe()"
     ],
     "language": "python",
     "metadata": {},
     "outputs": [
      {
       "metadata": {},
       "output_type": "pyout",
       "prompt_number": 24,
       "text": [
        "count      349\n",
        "unique     278\n",
        "top       1989\n",
        "freq         5\n",
        "dtype: object"
       ]
      }
     ],
     "prompt_number": 24
    },
    {
     "cell_type": "code",
     "collapsed": false,
     "input": [
      "df = pd.read_csv('./coreEIDs.csv')\n",
      "df = df.drop('Unnamed: 0',1)\n",
      "df.count()"
     ],
     "language": "python",
     "metadata": {},
     "outputs": [
      {
       "metadata": {},
       "output_type": "pyout",
       "prompt_number": 25,
       "text": [
        "eventName                                      469\n",
        "nameICD10Val                                   204\n",
        "eidID                                          468\n",
        "diseaseValPrecis                               469\n",
        "startDateISO                                   469\n",
        "endDateISO                                     467\n",
        "hostAgeVal                                     428\n",
        "hostUseVal                                     435\n",
        "transmissionModelVal                           469\n",
        "zoonoticTypeVal                                469\n",
        "numberInfectedVal                              469\n",
        "prevalenceVal                                  468\n",
        "symptomsReportedVal                            469\n",
        "hostSex                                        118\n",
        "sampleTypeVal                                  463\n",
        "driverVal                                      469\n",
        "eidVal                                         469\n",
        "eidCategoryVal                                 469\n",
        "domesticationStatusVal                         469\n",
        "numberDeathsVal                                467\n",
        "pathogenOrder                                  297\n",
        "pathogenFamily                                 378\n",
        "pathogenClass                                  239\n",
        "pathogenType                                   438\n",
        "pathogenDrugResistanceVal                      432\n",
        "hostReportedNameVal                            436\n",
        "locationNation                                 440\n",
        "locationContinent                              440\n",
        "avgLifeExpectancyInCountryAndYearOfEventVal    429\n",
        "perCapitaNationalGDPInYearOfEventVal           433\n",
        "dtype: int64"
       ]
      }
     ],
     "prompt_number": 25
    },
    {
     "cell_type": "code",
     "collapsed": false,
     "input": [
      "df['startDateISO'].describe()"
     ],
     "language": "python",
     "metadata": {},
     "outputs": [
      {
       "metadata": {},
       "output_type": "pyout",
       "prompt_number": 26,
       "text": [
        "count     469\n",
        "unique    279\n",
        "top        NF\n",
        "freq      120\n",
        "dtype: object"
       ]
      }
     ],
     "prompt_number": 26
    },
    {
     "cell_type": "code",
     "collapsed": false,
     "input": [
      "df['startDateISO'].count(NF)"
     ],
     "language": "python",
     "metadata": {},
     "outputs": [
      {
       "ename": "NameError",
       "evalue": "name 'NF' is not defined",
       "output_type": "pyerr",
       "traceback": [
        "\u001b[0;31m---------------------------------------------------------------------------\u001b[0m\n\u001b[0;31mNameError\u001b[0m                                 Traceback (most recent call last)",
        "\u001b[0;32m<ipython-input-27-268dd430ce81>\u001b[0m in \u001b[0;36m<module>\u001b[0;34m()\u001b[0m\n\u001b[0;32m----> 1\u001b[0;31m \u001b[0mdf\u001b[0m\u001b[0;34m[\u001b[0m\u001b[0;34m'startDateISO'\u001b[0m\u001b[0;34m]\u001b[0m\u001b[0;34m.\u001b[0m\u001b[0mcount\u001b[0m\u001b[0;34m(\u001b[0m\u001b[0mNF\u001b[0m\u001b[0;34m)\u001b[0m\u001b[0;34m\u001b[0m\u001b[0m\n\u001b[0m",
        "\u001b[0;31mNameError\u001b[0m: name 'NF' is not defined"
       ]
      }
     ],
     "prompt_number": 27
    },
    {
     "cell_type": "code",
     "collapsed": false,
     "input": [
      "df[df['startDateISO'] == 'NF'].count()"
     ],
     "language": "python",
     "metadata": {},
     "outputs": [
      {
       "metadata": {},
       "output_type": "pyout",
       "prompt_number": 28,
       "text": [
        "eventName                                      120\n",
        "nameICD10Val                                    38\n",
        "eidID                                          120\n",
        "diseaseValPrecis                               120\n",
        "startDateISO                                   120\n",
        "endDateISO                                     120\n",
        "hostAgeVal                                      85\n",
        "hostUseVal                                      90\n",
        "transmissionModelVal                           120\n",
        "zoonoticTypeVal                                120\n",
        "numberInfectedVal                              120\n",
        "prevalenceVal                                  120\n",
        "symptomsReportedVal                            120\n",
        "hostSex                                         18\n",
        "sampleTypeVal                                  116\n",
        "driverVal                                      120\n",
        "eidVal                                         120\n",
        "eidCategoryVal                                 120\n",
        "domesticationStatusVal                         120\n",
        "numberDeathsVal                                120\n",
        "pathogenOrder                                   53\n",
        "pathogenFamily                                  68\n",
        "pathogenClass                                   45\n",
        "pathogenType                                   110\n",
        "pathogenDrugResistanceVal                      104\n",
        "hostReportedNameVal                            108\n",
        "locationNation                                 110\n",
        "locationContinent                              110\n",
        "avgLifeExpectancyInCountryAndYearOfEventVal    107\n",
        "perCapitaNationalGDPInYearOfEventVal           109\n",
        "dtype: int64"
       ]
      }
     ],
     "prompt_number": 28
    },
    {
     "cell_type": "code",
     "collapsed": false,
     "input": [
      "df.replace(['NF','NAP'], np.nan, inplace=True)"
     ],
     "language": "python",
     "metadata": {},
     "outputs": [],
     "prompt_number": 29
    },
    {
     "cell_type": "code",
     "collapsed": false,
     "input": [
      "df['startDateISO'].count(NF)"
     ],
     "language": "python",
     "metadata": {},
     "outputs": [
      {
       "ename": "NameError",
       "evalue": "name 'NF' is not defined",
       "output_type": "pyerr",
       "traceback": [
        "\u001b[0;31m---------------------------------------------------------------------------\u001b[0m\n\u001b[0;31mNameError\u001b[0m                                 Traceback (most recent call last)",
        "\u001b[0;32m<ipython-input-31-268dd430ce81>\u001b[0m in \u001b[0;36m<module>\u001b[0;34m()\u001b[0m\n\u001b[0;32m----> 1\u001b[0;31m \u001b[0mdf\u001b[0m\u001b[0;34m[\u001b[0m\u001b[0;34m'startDateISO'\u001b[0m\u001b[0;34m]\u001b[0m\u001b[0;34m.\u001b[0m\u001b[0mcount\u001b[0m\u001b[0;34m(\u001b[0m\u001b[0mNF\u001b[0m\u001b[0;34m)\u001b[0m\u001b[0;34m\u001b[0m\u001b[0m\n\u001b[0m",
        "\u001b[0;31mNameError\u001b[0m: name 'NF' is not defined"
       ]
      }
     ],
     "prompt_number": 31
    },
    {
     "cell_type": "code",
     "collapsed": false,
     "input": [],
     "language": "python",
     "metadata": {},
     "outputs": []
    }
   ],
   "metadata": {}
  }
 ]
}